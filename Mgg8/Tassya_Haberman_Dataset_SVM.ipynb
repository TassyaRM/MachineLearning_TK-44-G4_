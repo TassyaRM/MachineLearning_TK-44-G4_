{
  "nbformat": 4,
  "nbformat_minor": 0,
  "metadata": {
    "colab": {
      "provenance": [],
      "gpuType": "T4",
      "include_colab_link": true
    },
    "kernelspec": {
      "name": "python3",
      "display_name": "Python 3"
    },
    "language_info": {
      "name": "python"
    },
    "accelerator": "GPU"
  },
  "cells": [
    {
      "cell_type": "markdown",
      "metadata": {
        "id": "view-in-github",
        "colab_type": "text"
      },
      "source": [
        "<a href=\"https://colab.research.google.com/github/TassyaRM/MachineLearning_TK-44-G4_/blob/main/Mgg8/Tassya_Haberman_Dataset_SVM.ipynb\" target=\"_parent\"><img src=\"https://colab.research.google.com/assets/colab-badge.svg\" alt=\"Open In Colab\"/></a>"
      ]
    },
    {
      "cell_type": "markdown",
      "source": [
        "# **Nama : Tassya Ramadhanti**\n",
        "# **NIM  : 1103204016**\n",
        "# **Studying Support Vector Machine (SVM) for classification using [Haberman Dataset](https://www.kaggle.com/datasets/dzikrifaizziyan/haberman-dataset/data).**"
      ],
      "metadata": {
        "id": "3Zaz0d_HjA82"
      }
    },
    {
      "cell_type": "markdown",
      "source": [
        "# Pengambilan Data dari API Kaggle\n",
        "---\n"
      ],
      "metadata": {
        "id": "hvO047LGNNYe"
      }
    },
    {
      "cell_type": "markdown",
      "source": [
        "Pastikan sudah menginstal pustaka Kaggle dengan menjalankan perintah seperti dibawah ini:"
      ],
      "metadata": {
        "id": "_5j65E7JykFn"
      }
    },
    {
      "cell_type": "code",
      "source": [
        "#Install modul kaggle\n",
        "!pip install kaggle"
      ],
      "metadata": {
        "colab": {
          "base_uri": "https://localhost:8080/"
        },
        "id": "uhf5Pq8RgMTR",
        "outputId": "6e1fcfa1-6d08-4fb8-c6d0-b340862723bc"
      },
      "execution_count": 1,
      "outputs": [
        {
          "output_type": "stream",
          "name": "stdout",
          "text": [
            "Requirement already satisfied: kaggle in /usr/local/lib/python3.10/dist-packages (1.5.16)\n",
            "Requirement already satisfied: six>=1.10 in /usr/local/lib/python3.10/dist-packages (from kaggle) (1.16.0)\n",
            "Requirement already satisfied: certifi in /usr/local/lib/python3.10/dist-packages (from kaggle) (2023.7.22)\n",
            "Requirement already satisfied: python-dateutil in /usr/local/lib/python3.10/dist-packages (from kaggle) (2.8.2)\n",
            "Requirement already satisfied: requests in /usr/local/lib/python3.10/dist-packages (from kaggle) (2.31.0)\n",
            "Requirement already satisfied: tqdm in /usr/local/lib/python3.10/dist-packages (from kaggle) (4.66.1)\n",
            "Requirement already satisfied: python-slugify in /usr/local/lib/python3.10/dist-packages (from kaggle) (8.0.1)\n",
            "Requirement already satisfied: urllib3 in /usr/local/lib/python3.10/dist-packages (from kaggle) (2.0.7)\n",
            "Requirement already satisfied: bleach in /usr/local/lib/python3.10/dist-packages (from kaggle) (6.1.0)\n",
            "Requirement already satisfied: webencodings in /usr/local/lib/python3.10/dist-packages (from bleach->kaggle) (0.5.1)\n",
            "Requirement already satisfied: text-unidecode>=1.3 in /usr/local/lib/python3.10/dist-packages (from python-slugify->kaggle) (1.3)\n",
            "Requirement already satisfied: charset-normalizer<4,>=2 in /usr/local/lib/python3.10/dist-packages (from requests->kaggle) (3.3.2)\n",
            "Requirement already satisfied: idna<4,>=2.5 in /usr/local/lib/python3.10/dist-packages (from requests->kaggle) (3.4)\n"
          ]
        }
      ]
    },
    {
      "cell_type": "markdown",
      "source": [
        "Prompt ChatGPT:\n",
        "berikan kodingan untuk mengimpor file kaggle.json ke google collab"
      ],
      "metadata": {
        "id": "vvYck3gTxiVT"
      }
    },
    {
      "cell_type": "code",
      "source": [
        "from google.colab import files\n",
        "\n",
        "# Upload file kaggle.json\n",
        "files.upload()"
      ],
      "metadata": {
        "colab": {
          "base_uri": "https://localhost:8080/",
          "height": 88
        },
        "id": "SKHmiYaqgNgl",
        "outputId": "e22ee1a5-dece-4f86-f0f4-91bb3948f0b9"
      },
      "execution_count": 2,
      "outputs": [
        {
          "output_type": "display_data",
          "data": {
            "text/plain": [
              "<IPython.core.display.HTML object>"
            ],
            "text/html": [
              "\n",
              "     <input type=\"file\" id=\"files-2603baa8-cd52-4910-8116-e68c5c9dc40e\" name=\"files[]\" multiple disabled\n",
              "        style=\"border:none\" />\n",
              "     <output id=\"result-2603baa8-cd52-4910-8116-e68c5c9dc40e\">\n",
              "      Upload widget is only available when the cell has been executed in the\n",
              "      current browser session. Please rerun this cell to enable.\n",
              "      </output>\n",
              "      <script>// Copyright 2017 Google LLC\n",
              "//\n",
              "// Licensed under the Apache License, Version 2.0 (the \"License\");\n",
              "// you may not use this file except in compliance with the License.\n",
              "// You may obtain a copy of the License at\n",
              "//\n",
              "//      http://www.apache.org/licenses/LICENSE-2.0\n",
              "//\n",
              "// Unless required by applicable law or agreed to in writing, software\n",
              "// distributed under the License is distributed on an \"AS IS\" BASIS,\n",
              "// WITHOUT WARRANTIES OR CONDITIONS OF ANY KIND, either express or implied.\n",
              "// See the License for the specific language governing permissions and\n",
              "// limitations under the License.\n",
              "\n",
              "/**\n",
              " * @fileoverview Helpers for google.colab Python module.\n",
              " */\n",
              "(function(scope) {\n",
              "function span(text, styleAttributes = {}) {\n",
              "  const element = document.createElement('span');\n",
              "  element.textContent = text;\n",
              "  for (const key of Object.keys(styleAttributes)) {\n",
              "    element.style[key] = styleAttributes[key];\n",
              "  }\n",
              "  return element;\n",
              "}\n",
              "\n",
              "// Max number of bytes which will be uploaded at a time.\n",
              "const MAX_PAYLOAD_SIZE = 100 * 1024;\n",
              "\n",
              "function _uploadFiles(inputId, outputId) {\n",
              "  const steps = uploadFilesStep(inputId, outputId);\n",
              "  const outputElement = document.getElementById(outputId);\n",
              "  // Cache steps on the outputElement to make it available for the next call\n",
              "  // to uploadFilesContinue from Python.\n",
              "  outputElement.steps = steps;\n",
              "\n",
              "  return _uploadFilesContinue(outputId);\n",
              "}\n",
              "\n",
              "// This is roughly an async generator (not supported in the browser yet),\n",
              "// where there are multiple asynchronous steps and the Python side is going\n",
              "// to poll for completion of each step.\n",
              "// This uses a Promise to block the python side on completion of each step,\n",
              "// then passes the result of the previous step as the input to the next step.\n",
              "function _uploadFilesContinue(outputId) {\n",
              "  const outputElement = document.getElementById(outputId);\n",
              "  const steps = outputElement.steps;\n",
              "\n",
              "  const next = steps.next(outputElement.lastPromiseValue);\n",
              "  return Promise.resolve(next.value.promise).then((value) => {\n",
              "    // Cache the last promise value to make it available to the next\n",
              "    // step of the generator.\n",
              "    outputElement.lastPromiseValue = value;\n",
              "    return next.value.response;\n",
              "  });\n",
              "}\n",
              "\n",
              "/**\n",
              " * Generator function which is called between each async step of the upload\n",
              " * process.\n",
              " * @param {string} inputId Element ID of the input file picker element.\n",
              " * @param {string} outputId Element ID of the output display.\n",
              " * @return {!Iterable<!Object>} Iterable of next steps.\n",
              " */\n",
              "function* uploadFilesStep(inputId, outputId) {\n",
              "  const inputElement = document.getElementById(inputId);\n",
              "  inputElement.disabled = false;\n",
              "\n",
              "  const outputElement = document.getElementById(outputId);\n",
              "  outputElement.innerHTML = '';\n",
              "\n",
              "  const pickedPromise = new Promise((resolve) => {\n",
              "    inputElement.addEventListener('change', (e) => {\n",
              "      resolve(e.target.files);\n",
              "    });\n",
              "  });\n",
              "\n",
              "  const cancel = document.createElement('button');\n",
              "  inputElement.parentElement.appendChild(cancel);\n",
              "  cancel.textContent = 'Cancel upload';\n",
              "  const cancelPromise = new Promise((resolve) => {\n",
              "    cancel.onclick = () => {\n",
              "      resolve(null);\n",
              "    };\n",
              "  });\n",
              "\n",
              "  // Wait for the user to pick the files.\n",
              "  const files = yield {\n",
              "    promise: Promise.race([pickedPromise, cancelPromise]),\n",
              "    response: {\n",
              "      action: 'starting',\n",
              "    }\n",
              "  };\n",
              "\n",
              "  cancel.remove();\n",
              "\n",
              "  // Disable the input element since further picks are not allowed.\n",
              "  inputElement.disabled = true;\n",
              "\n",
              "  if (!files) {\n",
              "    return {\n",
              "      response: {\n",
              "        action: 'complete',\n",
              "      }\n",
              "    };\n",
              "  }\n",
              "\n",
              "  for (const file of files) {\n",
              "    const li = document.createElement('li');\n",
              "    li.append(span(file.name, {fontWeight: 'bold'}));\n",
              "    li.append(span(\n",
              "        `(${file.type || 'n/a'}) - ${file.size} bytes, ` +\n",
              "        `last modified: ${\n",
              "            file.lastModifiedDate ? file.lastModifiedDate.toLocaleDateString() :\n",
              "                                    'n/a'} - `));\n",
              "    const percent = span('0% done');\n",
              "    li.appendChild(percent);\n",
              "\n",
              "    outputElement.appendChild(li);\n",
              "\n",
              "    const fileDataPromise = new Promise((resolve) => {\n",
              "      const reader = new FileReader();\n",
              "      reader.onload = (e) => {\n",
              "        resolve(e.target.result);\n",
              "      };\n",
              "      reader.readAsArrayBuffer(file);\n",
              "    });\n",
              "    // Wait for the data to be ready.\n",
              "    let fileData = yield {\n",
              "      promise: fileDataPromise,\n",
              "      response: {\n",
              "        action: 'continue',\n",
              "      }\n",
              "    };\n",
              "\n",
              "    // Use a chunked sending to avoid message size limits. See b/62115660.\n",
              "    let position = 0;\n",
              "    do {\n",
              "      const length = Math.min(fileData.byteLength - position, MAX_PAYLOAD_SIZE);\n",
              "      const chunk = new Uint8Array(fileData, position, length);\n",
              "      position += length;\n",
              "\n",
              "      const base64 = btoa(String.fromCharCode.apply(null, chunk));\n",
              "      yield {\n",
              "        response: {\n",
              "          action: 'append',\n",
              "          file: file.name,\n",
              "          data: base64,\n",
              "        },\n",
              "      };\n",
              "\n",
              "      let percentDone = fileData.byteLength === 0 ?\n",
              "          100 :\n",
              "          Math.round((position / fileData.byteLength) * 100);\n",
              "      percent.textContent = `${percentDone}% done`;\n",
              "\n",
              "    } while (position < fileData.byteLength);\n",
              "  }\n",
              "\n",
              "  // All done.\n",
              "  yield {\n",
              "    response: {\n",
              "      action: 'complete',\n",
              "    }\n",
              "  };\n",
              "}\n",
              "\n",
              "scope.google = scope.google || {};\n",
              "scope.google.colab = scope.google.colab || {};\n",
              "scope.google.colab._files = {\n",
              "  _uploadFiles,\n",
              "  _uploadFilesContinue,\n",
              "};\n",
              "})(self);\n",
              "</script> "
            ]
          },
          "metadata": {}
        },
        {
          "output_type": "stream",
          "name": "stdout",
          "text": [
            "Saving kaggle.json to kaggle.json\n"
          ]
        },
        {
          "output_type": "execute_result",
          "data": {
            "text/plain": [
              "{'kaggle.json': b'{\"username\":\"tassyaramadhanti\",\"key\":\"0100ff86eefed89e942ccf669125b605\"}'}"
            ]
          },
          "metadata": {},
          "execution_count": 2
        }
      ]
    },
    {
      "cell_type": "markdown",
      "source": [
        "Prompt ChatGPT:\n",
        "berikan codingan untuk membuat direktori kaggle kemudian pindahkan file kaggle.json yang sudah kita impor tadi kedalam direktori"
      ],
      "metadata": {
        "id": "T5A9PDg1xwI0"
      }
    },
    {
      "cell_type": "code",
      "source": [
        "# Membuat direktori Kaggle\n",
        "!mkdir -p ~/.kaggle\n",
        "\n",
        "# Pindahkan file kaggle.json ke direktori Kaggle\n",
        "!mv kaggle.json ~/.kaggle/"
      ],
      "metadata": {
        "id": "VBjqEb8tgNs1"
      },
      "execution_count": 3,
      "outputs": []
    },
    {
      "cell_type": "code",
      "source": [
        "# Mencari dataset yang tersedia di kaggle\n",
        "!kaggle datasets list -s \"Haberman Dataset\""
      ],
      "metadata": {
        "colab": {
          "base_uri": "https://localhost:8080/"
        },
        "id": "sHiurAJEgy5O",
        "outputId": "55d070eb-b42e-42a0-a712-65cbcbd066e5"
      },
      "execution_count": 18,
      "outputs": [
        {
          "output_type": "stream",
          "name": "stdout",
          "text": [
            "Warning: Your Kaggle API key is readable by other users on this system! To fix this, you can run 'chmod 600 /root/.kaggle/kaggle.json'\n",
            "ref                                               title                                size  lastUpdated          downloadCount  voteCount  usabilityRating  \n",
            "------------------------------------------------  ----------------------------------  -----  -------------------  -------------  ---------  ---------------  \n",
            "sachinkalsi/haberman                              haberman dataset                      1KB  2017-11-10 17:16:08            208          8  0.29411766       \n",
            "dzikrifaizziyan/haberman-dataset                  Haberman Dataset                      3KB  2021-06-11 10:35:10            287          5  0.7058824        \n",
            "krishnaravi17/haberman-cancer-dataset             Haberman cancer Dataset               1KB  2018-08-07 00:46:42            283          5  0.29411766       \n",
            "akshatanand/habermancsv                           haberman dataset                     998B  2020-03-24 15:30:28              9          3  0.1764706        \n",
            "shreyasharma319/haberman-cancer-survival-dataset  Haberman Cancer Survival Dataset      1KB  2019-07-20 05:58:10             70          3  0.29411766       \n",
            "jeriljohnson/habermans-cancer-survival-dataset    Haberman's cancer survival dataset    1KB  2020-02-27 07:39:39            118          5  0.3529412        \n",
            "shashikiran42/haberman-dataset                    haberman dataset                     15KB  2020-05-09 21:47:56              8          2  0.125            \n",
            "fmominsfdc/habermans-dataset                      Haberman's Dataset                   998B  2018-11-10 19:41:33             92          1  0.64705884       \n",
            "pratyakshbhalla/haberman-dataset                  haberman dataset                    1012B  2020-03-13 09:59:56             14          1  0.1764706        \n",
            "shyamtyagi/haberman-dataset                       haberman dataset                      1KB  2021-08-12 11:11:57             18          1  0.29411766       \n",
            "dhananjaysahoo/habermandataset                    HabermanDataSet                      998B  2019-10-04 06:03:11             13          1  0.3529412        \n",
            "guggillasivaiah/haberman-cancer-survival-dataset  Haberman Cancer Survival dataset    179KB  2019-06-18 05:49:34             43          1  0.125            \n",
            "nnirosha/habermans-survival-dataset               Haberman's Survival Dataset           1KB  2020-12-31 04:46:38             27          1  0.23529412       \n",
            "gowtamsingulur/habermancsv                        haberman                              1KB  2019-07-22 11:19:35             36          1  0.64705884       \n",
            "prateekbangwal/haberman-survival-dataset          haberman_survival_dataset             1KB  2021-09-14 09:52:06              9          1  0.11764706       \n"
          ]
        }
      ]
    },
    {
      "cell_type": "markdown",
      "source": [
        "Pilih dataset yang ingin digunakan dari list dataset yang tersedia diatas, kemudian download dataset"
      ],
      "metadata": {
        "id": "T_teBFrgzB_5"
      }
    },
    {
      "cell_type": "code",
      "source": [
        "# Download dan ekstrak dataset, dimana nantinya akan satu direktori dengan notebook ini\n",
        "!kaggle datasets download dzikrifaizziyan/haberman-dataset --unzip"
      ],
      "metadata": {
        "colab": {
          "base_uri": "https://localhost:8080/"
        },
        "id": "f-jsQD0igzAt",
        "outputId": "ed555eac-9e99-4784-8e31-e4ddc3d132ab"
      },
      "execution_count": 19,
      "outputs": [
        {
          "output_type": "stream",
          "name": "stdout",
          "text": [
            "Warning: Your Kaggle API key is readable by other users on this system! To fix this, you can run 'chmod 600 /root/.kaggle/kaggle.json'\n",
            "Downloading haberman-dataset.zip to /content\n",
            "  0% 0.00/2.93k [00:00<?, ?B/s]\n",
            "100% 2.93k/2.93k [00:00<00:00, 8.92MB/s]\n"
          ]
        }
      ]
    },
    {
      "cell_type": "markdown",
      "source": [
        "Dataset nantinya akan berada dalam direktori kaggle, seperti dibawah ini:\n",
        "\n",
        "![image.png](data:image/png;base64,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)"
      ],
      "metadata": {
        "id": "q0PHuKfnze6j"
      }
    },
    {
      "cell_type": "markdown",
      "source": [
        "## Library Yang Digunakan\n",
        "---"
      ],
      "metadata": {
        "id": "V4_SRzZBNgE8"
      }
    },
    {
      "cell_type": "code",
      "source": [
        "# Import library\n",
        "import pandas as pd\n",
        "from sklearn.svm import SVC\n",
        "import matplotlib.pyplot as plt\n",
        "import seaborn as sns\n",
        "from sklearn.model_selection import train_test_split\n",
        "from sklearn.preprocessing import StandardScaler\n",
        "from sklearn.model_selection import GridSearchCV\n",
        "from sklearn.metrics import accuracy_score"
      ],
      "metadata": {
        "id": "S8j1PJIN2hPF"
      },
      "execution_count": 48,
      "outputs": []
    },
    {
      "cell_type": "markdown",
      "source": [
        "fungsi dari setiap library:\n",
        "\n",
        "- import pandas as pd: untuk manipulasi dan analisis data.\n",
        "- from sklearn.svm import SVC: untuk model klasifikasi menggunakan metode Support Vector Machine (SVM).\n",
        "- import matplotlib.pyplot as plt:untuk membuat visualisasi seperti grafik dan plot.\n",
        "- import seaborn as sns: Seaborn adalah library untuk membuat visualisasi data statistik.\n",
        "- from sklearn.model_selection import train_test_split: untuk memisahkan data menjadi data latih dan data uji.\n",
        "- from sklearn.preprocessing import StandardScaler: untuk standarisasi fitur agar memiliki mean=0 dan deviasi standar=1.\n",
        "- from sklearn.model_selection import GridSearchCV: untuk mencari kombinasi hyperparameter terbaik untuk model menggunakan metode validasi silang (cross-validation).\n",
        "- from sklearn.metrics import accuracy_score: untuk mengukur akurasi model, yaitu sejauh mana prediksi model cocok dengan data aktual."
      ],
      "metadata": {
        "id": "QuMp_KOT_4UJ"
      }
    },
    {
      "cell_type": "markdown",
      "source": [
        "Prompt ChatGPT:\n",
        "beri kode untuk membaca dataset menjadi dataframe"
      ],
      "metadata": {
        "id": "dZAe7Z7nVff7"
      }
    },
    {
      "cell_type": "code",
      "execution_count": 38,
      "metadata": {
        "id": "CsuFIElHpuHC",
        "colab": {
          "base_uri": "https://localhost:8080/",
          "height": 206
        },
        "outputId": "294987b9-fc32-4953-f4c3-e5d1083426df"
      },
      "outputs": [
        {
          "output_type": "execute_result",
          "data": {
            "text/plain": [
              "   Age_of_patient_at_time_of_operation  Patient_year_of_operation  \\\n",
              "0                                   30                         64   \n",
              "1                                   30                         62   \n",
              "2                                   30                         65   \n",
              "3                                   31                         59   \n",
              "4                                   31                         65   \n",
              "\n",
              "   Number_of_positive_axillary_nodes_detected  Survival_status  \n",
              "0                                           1                1  \n",
              "1                                           3                1  \n",
              "2                                           0                1  \n",
              "3                                           2                1  \n",
              "4                                           4                1  "
            ],
            "text/html": [
              "\n",
              "  <div id=\"df-c186da13-f9e2-4259-9e0a-09ae0467feba\" class=\"colab-df-container\">\n",
              "    <div>\n",
              "<style scoped>\n",
              "    .dataframe tbody tr th:only-of-type {\n",
              "        vertical-align: middle;\n",
              "    }\n",
              "\n",
              "    .dataframe tbody tr th {\n",
              "        vertical-align: top;\n",
              "    }\n",
              "\n",
              "    .dataframe thead th {\n",
              "        text-align: right;\n",
              "    }\n",
              "</style>\n",
              "<table border=\"1\" class=\"dataframe\">\n",
              "  <thead>\n",
              "    <tr style=\"text-align: right;\">\n",
              "      <th></th>\n",
              "      <th>Age_of_patient_at_time_of_operation</th>\n",
              "      <th>Patient_year_of_operation</th>\n",
              "      <th>Number_of_positive_axillary_nodes_detected</th>\n",
              "      <th>Survival_status</th>\n",
              "    </tr>\n",
              "  </thead>\n",
              "  <tbody>\n",
              "    <tr>\n",
              "      <th>0</th>\n",
              "      <td>30</td>\n",
              "      <td>64</td>\n",
              "      <td>1</td>\n",
              "      <td>1</td>\n",
              "    </tr>\n",
              "    <tr>\n",
              "      <th>1</th>\n",
              "      <td>30</td>\n",
              "      <td>62</td>\n",
              "      <td>3</td>\n",
              "      <td>1</td>\n",
              "    </tr>\n",
              "    <tr>\n",
              "      <th>2</th>\n",
              "      <td>30</td>\n",
              "      <td>65</td>\n",
              "      <td>0</td>\n",
              "      <td>1</td>\n",
              "    </tr>\n",
              "    <tr>\n",
              "      <th>3</th>\n",
              "      <td>31</td>\n",
              "      <td>59</td>\n",
              "      <td>2</td>\n",
              "      <td>1</td>\n",
              "    </tr>\n",
              "    <tr>\n",
              "      <th>4</th>\n",
              "      <td>31</td>\n",
              "      <td>65</td>\n",
              "      <td>4</td>\n",
              "      <td>1</td>\n",
              "    </tr>\n",
              "  </tbody>\n",
              "</table>\n",
              "</div>\n",
              "    <div class=\"colab-df-buttons\">\n",
              "\n",
              "  <div class=\"colab-df-container\">\n",
              "    <button class=\"colab-df-convert\" onclick=\"convertToInteractive('df-c186da13-f9e2-4259-9e0a-09ae0467feba')\"\n",
              "            title=\"Convert this dataframe to an interactive table.\"\n",
              "            style=\"display:none;\">\n",
              "\n",
              "  <svg xmlns=\"http://www.w3.org/2000/svg\" height=\"24px\" viewBox=\"0 -960 960 960\">\n",
              "    <path d=\"M120-120v-720h720v720H120Zm60-500h600v-160H180v160Zm220 220h160v-160H400v160Zm0 220h160v-160H400v160ZM180-400h160v-160H180v160Zm440 0h160v-160H620v160ZM180-180h160v-160H180v160Zm440 0h160v-160H620v160Z\"/>\n",
              "  </svg>\n",
              "    </button>\n",
              "\n",
              "  <style>\n",
              "    .colab-df-container {\n",
              "      display:flex;\n",
              "      gap: 12px;\n",
              "    }\n",
              "\n",
              "    .colab-df-convert {\n",
              "      background-color: #E8F0FE;\n",
              "      border: none;\n",
              "      border-radius: 50%;\n",
              "      cursor: pointer;\n",
              "      display: none;\n",
              "      fill: #1967D2;\n",
              "      height: 32px;\n",
              "      padding: 0 0 0 0;\n",
              "      width: 32px;\n",
              "    }\n",
              "\n",
              "    .colab-df-convert:hover {\n",
              "      background-color: #E2EBFA;\n",
              "      box-shadow: 0px 1px 2px rgba(60, 64, 67, 0.3), 0px 1px 3px 1px rgba(60, 64, 67, 0.15);\n",
              "      fill: #174EA6;\n",
              "    }\n",
              "\n",
              "    .colab-df-buttons div {\n",
              "      margin-bottom: 4px;\n",
              "    }\n",
              "\n",
              "    [theme=dark] .colab-df-convert {\n",
              "      background-color: #3B4455;\n",
              "      fill: #D2E3FC;\n",
              "    }\n",
              "\n",
              "    [theme=dark] .colab-df-convert:hover {\n",
              "      background-color: #434B5C;\n",
              "      box-shadow: 0px 1px 3px 1px rgba(0, 0, 0, 0.15);\n",
              "      filter: drop-shadow(0px 1px 2px rgba(0, 0, 0, 0.3));\n",
              "      fill: #FFFFFF;\n",
              "    }\n",
              "  </style>\n",
              "\n",
              "    <script>\n",
              "      const buttonEl =\n",
              "        document.querySelector('#df-c186da13-f9e2-4259-9e0a-09ae0467feba button.colab-df-convert');\n",
              "      buttonEl.style.display =\n",
              "        google.colab.kernel.accessAllowed ? 'block' : 'none';\n",
              "\n",
              "      async function convertToInteractive(key) {\n",
              "        const element = document.querySelector('#df-c186da13-f9e2-4259-9e0a-09ae0467feba');\n",
              "        const dataTable =\n",
              "          await google.colab.kernel.invokeFunction('convertToInteractive',\n",
              "                                                    [key], {});\n",
              "        if (!dataTable) return;\n",
              "\n",
              "        const docLinkHtml = 'Like what you see? Visit the ' +\n",
              "          '<a target=\"_blank\" href=https://colab.research.google.com/notebooks/data_table.ipynb>data table notebook</a>'\n",
              "          + ' to learn more about interactive tables.';\n",
              "        element.innerHTML = '';\n",
              "        dataTable['output_type'] = 'display_data';\n",
              "        await google.colab.output.renderOutput(dataTable, element);\n",
              "        const docLink = document.createElement('div');\n",
              "        docLink.innerHTML = docLinkHtml;\n",
              "        element.appendChild(docLink);\n",
              "      }\n",
              "    </script>\n",
              "  </div>\n",
              "\n",
              "\n",
              "<div id=\"df-99ae6037-817d-4de0-93fb-154f8c1f46f3\">\n",
              "  <button class=\"colab-df-quickchart\" onclick=\"quickchart('df-99ae6037-817d-4de0-93fb-154f8c1f46f3')\"\n",
              "            title=\"Suggest charts\"\n",
              "            style=\"display:none;\">\n",
              "\n",
              "<svg xmlns=\"http://www.w3.org/2000/svg\" height=\"24px\"viewBox=\"0 0 24 24\"\n",
              "     width=\"24px\">\n",
              "    <g>\n",
              "        <path d=\"M19 3H5c-1.1 0-2 .9-2 2v14c0 1.1.9 2 2 2h14c1.1 0 2-.9 2-2V5c0-1.1-.9-2-2-2zM9 17H7v-7h2v7zm4 0h-2V7h2v10zm4 0h-2v-4h2v4z\"/>\n",
              "    </g>\n",
              "</svg>\n",
              "  </button>\n",
              "\n",
              "<style>\n",
              "  .colab-df-quickchart {\n",
              "      --bg-color: #E8F0FE;\n",
              "      --fill-color: #1967D2;\n",
              "      --hover-bg-color: #E2EBFA;\n",
              "      --hover-fill-color: #174EA6;\n",
              "      --disabled-fill-color: #AAA;\n",
              "      --disabled-bg-color: #DDD;\n",
              "  }\n",
              "\n",
              "  [theme=dark] .colab-df-quickchart {\n",
              "      --bg-color: #3B4455;\n",
              "      --fill-color: #D2E3FC;\n",
              "      --hover-bg-color: #434B5C;\n",
              "      --hover-fill-color: #FFFFFF;\n",
              "      --disabled-bg-color: #3B4455;\n",
              "      --disabled-fill-color: #666;\n",
              "  }\n",
              "\n",
              "  .colab-df-quickchart {\n",
              "    background-color: var(--bg-color);\n",
              "    border: none;\n",
              "    border-radius: 50%;\n",
              "    cursor: pointer;\n",
              "    display: none;\n",
              "    fill: var(--fill-color);\n",
              "    height: 32px;\n",
              "    padding: 0;\n",
              "    width: 32px;\n",
              "  }\n",
              "\n",
              "  .colab-df-quickchart:hover {\n",
              "    background-color: var(--hover-bg-color);\n",
              "    box-shadow: 0 1px 2px rgba(60, 64, 67, 0.3), 0 1px 3px 1px rgba(60, 64, 67, 0.15);\n",
              "    fill: var(--button-hover-fill-color);\n",
              "  }\n",
              "\n",
              "  .colab-df-quickchart-complete:disabled,\n",
              "  .colab-df-quickchart-complete:disabled:hover {\n",
              "    background-color: var(--disabled-bg-color);\n",
              "    fill: var(--disabled-fill-color);\n",
              "    box-shadow: none;\n",
              "  }\n",
              "\n",
              "  .colab-df-spinner {\n",
              "    border: 2px solid var(--fill-color);\n",
              "    border-color: transparent;\n",
              "    border-bottom-color: var(--fill-color);\n",
              "    animation:\n",
              "      spin 1s steps(1) infinite;\n",
              "  }\n",
              "\n",
              "  @keyframes spin {\n",
              "    0% {\n",
              "      border-color: transparent;\n",
              "      border-bottom-color: var(--fill-color);\n",
              "      border-left-color: var(--fill-color);\n",
              "    }\n",
              "    20% {\n",
              "      border-color: transparent;\n",
              "      border-left-color: var(--fill-color);\n",
              "      border-top-color: var(--fill-color);\n",
              "    }\n",
              "    30% {\n",
              "      border-color: transparent;\n",
              "      border-left-color: var(--fill-color);\n",
              "      border-top-color: var(--fill-color);\n",
              "      border-right-color: var(--fill-color);\n",
              "    }\n",
              "    40% {\n",
              "      border-color: transparent;\n",
              "      border-right-color: var(--fill-color);\n",
              "      border-top-color: var(--fill-color);\n",
              "    }\n",
              "    60% {\n",
              "      border-color: transparent;\n",
              "      border-right-color: var(--fill-color);\n",
              "    }\n",
              "    80% {\n",
              "      border-color: transparent;\n",
              "      border-right-color: var(--fill-color);\n",
              "      border-bottom-color: var(--fill-color);\n",
              "    }\n",
              "    90% {\n",
              "      border-color: transparent;\n",
              "      border-bottom-color: var(--fill-color);\n",
              "    }\n",
              "  }\n",
              "</style>\n",
              "\n",
              "  <script>\n",
              "    async function quickchart(key) {\n",
              "      const quickchartButtonEl =\n",
              "        document.querySelector('#' + key + ' button');\n",
              "      quickchartButtonEl.disabled = true;  // To prevent multiple clicks.\n",
              "      quickchartButtonEl.classList.add('colab-df-spinner');\n",
              "      try {\n",
              "        const charts = await google.colab.kernel.invokeFunction(\n",
              "            'suggestCharts', [key], {});\n",
              "      } catch (error) {\n",
              "        console.error('Error during call to suggestCharts:', error);\n",
              "      }\n",
              "      quickchartButtonEl.classList.remove('colab-df-spinner');\n",
              "      quickchartButtonEl.classList.add('colab-df-quickchart-complete');\n",
              "    }\n",
              "    (() => {\n",
              "      let quickchartButtonEl =\n",
              "        document.querySelector('#df-99ae6037-817d-4de0-93fb-154f8c1f46f3 button');\n",
              "      quickchartButtonEl.style.display =\n",
              "        google.colab.kernel.accessAllowed ? 'block' : 'none';\n",
              "    })();\n",
              "  </script>\n",
              "</div>\n",
              "    </div>\n",
              "  </div>\n"
            ]
          },
          "metadata": {},
          "execution_count": 38
        }
      ],
      "source": [
        "# memuat data\n",
        "df = pd.read_csv(\"haberman.csv\")\n",
        "\n",
        "# menampilkan 5 baris pertama dataset\n",
        "df.head()"
      ]
    },
    {
      "cell_type": "code",
      "source": [
        "# Mengganti nama kolom\n",
        "df.rename(columns={\n",
        "    'Age_of_patient_at_time_of_operation': 'Age',\n",
        "    'Patient_year_of_operation': 'Operation_Year',\n",
        "    'Number_of_positive_axillary_nodes_detected': 'Axillary_Nodes',\n",
        "    'Survival_status': 'Survival_Status'\n",
        "}, inplace=True)\n",
        "\n",
        "print(df.head())"
      ],
      "metadata": {
        "colab": {
          "base_uri": "https://localhost:8080/"
        },
        "id": "ZPv6J-zTU8Z1",
        "outputId": "7d217fbe-4bb0-42f5-c8c9-5d0dd96e4fa5"
      },
      "execution_count": 39,
      "outputs": [
        {
          "output_type": "stream",
          "name": "stdout",
          "text": [
            "   Age  Operation_Year  Axillary_Nodes  Survival_Status\n",
            "0   30              64               1                1\n",
            "1   30              62               3                1\n",
            "2   30              65               0                1\n",
            "3   31              59               2                1\n",
            "4   31              65               4                1\n"
          ]
        }
      ]
    },
    {
      "cell_type": "code",
      "source": [
        "#Menampilkan informasi umum dataset\n",
        "df.info()"
      ],
      "metadata": {
        "colab": {
          "base_uri": "https://localhost:8080/"
        },
        "id": "E_N3PvD4uPX4",
        "outputId": "b1fcd56f-b105-4b85-e05d-c12fdee4f59b"
      },
      "execution_count": 40,
      "outputs": [
        {
          "output_type": "stream",
          "name": "stdout",
          "text": [
            "<class 'pandas.core.frame.DataFrame'>\n",
            "RangeIndex: 306 entries, 0 to 305\n",
            "Data columns (total 4 columns):\n",
            " #   Column           Non-Null Count  Dtype\n",
            "---  ------           --------------  -----\n",
            " 0   Age              306 non-null    int64\n",
            " 1   Operation_Year   306 non-null    int64\n",
            " 2   Axillary_Nodes   306 non-null    int64\n",
            " 3   Survival_Status  306 non-null    int64\n",
            "dtypes: int64(4)\n",
            "memory usage: 9.7 KB\n"
          ]
        }
      ]
    },
    {
      "cell_type": "code",
      "source": [
        "# Menampilkan jumlah nilai yang hilang untuk setiap kolom\n",
        "df.isnull().sum()"
      ],
      "metadata": {
        "colab": {
          "base_uri": "https://localhost:8080/"
        },
        "id": "Cj8vwT324G3r",
        "outputId": "ce9ff625-0577-487e-b1ee-34115ed5282c"
      },
      "execution_count": 41,
      "outputs": [
        {
          "output_type": "execute_result",
          "data": {
            "text/plain": [
              "Age                0\n",
              "Operation_Year     0\n",
              "Axillary_Nodes     0\n",
              "Survival_Status    0\n",
              "dtype: int64"
            ]
          },
          "metadata": {},
          "execution_count": 41
        }
      ]
    },
    {
      "cell_type": "markdown",
      "source": [
        "Tidak ada missing value"
      ],
      "metadata": {
        "id": "wTCEqtI2fR9K"
      }
    },
    {
      "cell_type": "markdown",
      "source": [
        "Prompt ChatGPT: beri kode untuk melakukan SVR dengan target \"Survival_Status\""
      ],
      "metadata": {
        "id": "yfPJeZYYWm8D"
      }
    },
    {
      "cell_type": "code",
      "source": [
        "# Pisahkan fitur (X) dan target (y)\n",
        "X = df[['Age', 'Operation_Year']]\n",
        "y = df['Survival_Status']\n",
        "\n",
        "# Standarisasi fitur menggunakan StandardScaler\n",
        "scaler = StandardScaler()\n",
        "X_scaled = scaler.fit_transform(X)\n",
        "\n",
        "# Bagi data menjadi data latih dan data uji\n",
        "X_train, X_test, y_train, y_test = train_test_split(X, y, test_size=0.33, random_state=42)\n",
        "\n",
        "# Melatih model SVC\n",
        "clf = SVC()\n",
        "clf.fit(X_train, y_train)"
      ],
      "metadata": {
        "colab": {
          "base_uri": "https://localhost:8080/",
          "height": 75
        },
        "id": "hG7tAB4f04n0",
        "outputId": "497fbbe1-4486-4a95-89a2-0ffe52b83a64"
      },
      "execution_count": 51,
      "outputs": [
        {
          "output_type": "execute_result",
          "data": {
            "text/plain": [
              "SVC()"
            ],
            "text/html": [
              "<style>#sk-container-id-4 {color: black;background-color: white;}#sk-container-id-4 pre{padding: 0;}#sk-container-id-4 div.sk-toggleable {background-color: white;}#sk-container-id-4 label.sk-toggleable__label {cursor: pointer;display: block;width: 100%;margin-bottom: 0;padding: 0.3em;box-sizing: border-box;text-align: center;}#sk-container-id-4 label.sk-toggleable__label-arrow:before {content: \"▸\";float: left;margin-right: 0.25em;color: #696969;}#sk-container-id-4 label.sk-toggleable__label-arrow:hover:before {color: black;}#sk-container-id-4 div.sk-estimator:hover label.sk-toggleable__label-arrow:before {color: black;}#sk-container-id-4 div.sk-toggleable__content {max-height: 0;max-width: 0;overflow: hidden;text-align: left;background-color: #f0f8ff;}#sk-container-id-4 div.sk-toggleable__content pre {margin: 0.2em;color: black;border-radius: 0.25em;background-color: #f0f8ff;}#sk-container-id-4 input.sk-toggleable__control:checked~div.sk-toggleable__content {max-height: 200px;max-width: 100%;overflow: auto;}#sk-container-id-4 input.sk-toggleable__control:checked~label.sk-toggleable__label-arrow:before {content: \"▾\";}#sk-container-id-4 div.sk-estimator input.sk-toggleable__control:checked~label.sk-toggleable__label {background-color: #d4ebff;}#sk-container-id-4 div.sk-label input.sk-toggleable__control:checked~label.sk-toggleable__label {background-color: #d4ebff;}#sk-container-id-4 input.sk-hidden--visually {border: 0;clip: rect(1px 1px 1px 1px);clip: rect(1px, 1px, 1px, 1px);height: 1px;margin: -1px;overflow: hidden;padding: 0;position: absolute;width: 1px;}#sk-container-id-4 div.sk-estimator {font-family: monospace;background-color: #f0f8ff;border: 1px dotted black;border-radius: 0.25em;box-sizing: border-box;margin-bottom: 0.5em;}#sk-container-id-4 div.sk-estimator:hover {background-color: #d4ebff;}#sk-container-id-4 div.sk-parallel-item::after {content: \"\";width: 100%;border-bottom: 1px solid gray;flex-grow: 1;}#sk-container-id-4 div.sk-label:hover label.sk-toggleable__label {background-color: #d4ebff;}#sk-container-id-4 div.sk-serial::before {content: \"\";position: absolute;border-left: 1px solid gray;box-sizing: border-box;top: 0;bottom: 0;left: 50%;z-index: 0;}#sk-container-id-4 div.sk-serial {display: flex;flex-direction: column;align-items: center;background-color: white;padding-right: 0.2em;padding-left: 0.2em;position: relative;}#sk-container-id-4 div.sk-item {position: relative;z-index: 1;}#sk-container-id-4 div.sk-parallel {display: flex;align-items: stretch;justify-content: center;background-color: white;position: relative;}#sk-container-id-4 div.sk-item::before, #sk-container-id-4 div.sk-parallel-item::before {content: \"\";position: absolute;border-left: 1px solid gray;box-sizing: border-box;top: 0;bottom: 0;left: 50%;z-index: -1;}#sk-container-id-4 div.sk-parallel-item {display: flex;flex-direction: column;z-index: 1;position: relative;background-color: white;}#sk-container-id-4 div.sk-parallel-item:first-child::after {align-self: flex-end;width: 50%;}#sk-container-id-4 div.sk-parallel-item:last-child::after {align-self: flex-start;width: 50%;}#sk-container-id-4 div.sk-parallel-item:only-child::after {width: 0;}#sk-container-id-4 div.sk-dashed-wrapped {border: 1px dashed gray;margin: 0 0.4em 0.5em 0.4em;box-sizing: border-box;padding-bottom: 0.4em;background-color: white;}#sk-container-id-4 div.sk-label label {font-family: monospace;font-weight: bold;display: inline-block;line-height: 1.2em;}#sk-container-id-4 div.sk-label-container {text-align: center;}#sk-container-id-4 div.sk-container {/* jupyter's `normalize.less` sets `[hidden] { display: none; }` but bootstrap.min.css set `[hidden] { display: none !important; }` so we also need the `!important` here to be able to override the default hidden behavior on the sphinx rendered scikit-learn.org. See: https://github.com/scikit-learn/scikit-learn/issues/21755 */display: inline-block !important;position: relative;}#sk-container-id-4 div.sk-text-repr-fallback {display: none;}</style><div id=\"sk-container-id-4\" class=\"sk-top-container\"><div class=\"sk-text-repr-fallback\"><pre>SVC()</pre><b>In a Jupyter environment, please rerun this cell to show the HTML representation or trust the notebook. <br />On GitHub, the HTML representation is unable to render, please try loading this page with nbviewer.org.</b></div><div class=\"sk-container\" hidden><div class=\"sk-item\"><div class=\"sk-estimator sk-toggleable\"><input class=\"sk-toggleable__control sk-hidden--visually\" id=\"sk-estimator-id-4\" type=\"checkbox\" checked><label for=\"sk-estimator-id-4\" class=\"sk-toggleable__label sk-toggleable__label-arrow\">SVC</label><div class=\"sk-toggleable__content\"><pre>SVC()</pre></div></div></div></div></div>"
            ]
          },
          "metadata": {},
          "execution_count": 51
        }
      ]
    },
    {
      "cell_type": "code",
      "source": [
        "# Akurasi model\n",
        "clf.score(X_test, y_test)"
      ],
      "metadata": {
        "colab": {
          "base_uri": "https://localhost:8080/"
        },
        "id": "_d2240BEXNGY",
        "outputId": "b49bf024-3f19-4f76-b3d3-76160de06cb7"
      },
      "execution_count": 52,
      "outputs": [
        {
          "output_type": "execute_result",
          "data": {
            "text/plain": [
              "0.7326732673267327"
            ]
          },
          "metadata": {},
          "execution_count": 52
        }
      ]
    },
    {
      "cell_type": "markdown",
      "source": [
        "Dalam kode di atas, fitur X atau 'Age, Operation_Year' di-standarisasi menggunakan StandardScaler sebelum diterapkan pada model SVC. Standarisasi ini membantu model untuk lebih efektif belajar dari data dan meningkatkan interpretasi hasilnya."
      ],
      "metadata": {
        "id": "vxPaXEz7-N4b"
      }
    },
    {
      "cell_type": "markdown",
      "source": [
        "# Visualisasi"
      ],
      "metadata": {
        "id": "yIRk_XDqimKd"
      }
    },
    {
      "cell_type": "code",
      "source": [
        "# Set palet sesuai dengan nilai 'Survival_Status'\n",
        "palette = {1: \"blue\", 2: \"red\"}\n",
        "\n",
        "plt.figure(figsize=(12, 6))\n",
        "sns.scatterplot(x=\"Age\", y=\"Operation_Year\", hue=\"Survival_Status\", data=df, palette=palette, hue_order=[1, 2])\n",
        "plt.xlabel(\"Age\")\n",
        "plt.ylabel(\"Operation Year\")\n",
        "plt.legend(title=\"Survival Status\")\n",
        "plt.show()"
      ],
      "metadata": {
        "colab": {
          "base_uri": "https://localhost:8080/",
          "height": 564
        },
        "id": "Fz9llD5giAMc",
        "outputId": "5aa0409e-789c-4ca4-cf1d-ef91a3eb3fb5"
      },
      "execution_count": 59,
      "outputs": [
        {
          "output_type": "display_data",
          "data": {
            "text/plain": [
              "<Figure size 1200x600 with 1 Axes>"
            ],
            "image/png": "[encoded data removed]"
          },
          "metadata": {}
        }
      ]
    },
    {
      "cell_type": "markdown",
      "source": [
        "#Survival_Status:\n",
        "\n",
        "1 = pasien bertahan hidup 5 tahun atau lebih\n",
        "\n",
        "2 = pasien meninggal dalam waktu 5 tahun"
      ],
      "metadata": {
        "id": "5ASm26ZXeg22"
      }
    }
  ]
}