{
  "nbformat": 4,
  "nbformat_minor": 0,
  "metadata": {
    "colab": {
      "provenance": [],
      "gpuType": "T4",
      "include_colab_link": true
    },
    "kernelspec": {
      "name": "python3",
      "display_name": "Python 3"
    },
    "language_info": {
      "name": "python"
    },
    "accelerator": "GPU"
  },
  "cells": [
    {
      "cell_type": "markdown",
      "metadata": {
        "id": "view-in-github",
        "colab_type": "text"
      },
      "source": [
        "<a href=\"https://colab.research.google.com/github/TassyaRM/MachineLearning_TK-44-G4_/blob/main/Mgg8/Tassya_Salary_Data_SVR.ipynb\" target=\"_parent\"><img src=\"https://colab.research.google.com/assets/colab-badge.svg\" alt=\"Open In Colab\"/></a>"
      ]
    },
    {
      "cell_type": "markdown",
      "source": [
        "# **Nama : Tassya Ramadhanti**\n",
        "# **NIM  : 1103204016**\n",
        "# **Studying Support Vector Regression (SVR) using the \"Salary_Data\" dataset.**"
      ],
      "metadata": {
        "id": "3Zaz0d_HjA82"
      }
    },
    {
      "cell_type": "markdown",
      "source": [
        "# Pengambilan Data dari API Kaggle\n",
        "---\n"
      ],
      "metadata": {
        "id": "hvO047LGNNYe"
      }
    },
    {
      "cell_type": "markdown",
      "source": [
        "Pastikan sudah menginstal pustaka Kaggle dengan menjalankan perintah seperti dibawah ini:"
      ],
      "metadata": {
        "id": "_5j65E7JykFn"
      }
    },
    {
      "cell_type": "code",
      "source": [
        "#Install modul kaggle\n",
        "!pip install kaggle"
      ],
      "metadata": {
        "colab": {
          "base_uri": "https://localhost:8080/"
        },
        "id": "uhf5Pq8RgMTR",
        "outputId": "d8293a11-4f5c-42ec-a0cc-c05994bea1d8"
      },
      "execution_count": 1,
      "outputs": [
        {
          "output_type": "stream",
          "name": "stdout",
          "text": [
            "Requirement already satisfied: kaggle in /usr/local/lib/python3.10/dist-packages (1.5.16)\n",
            "Requirement already satisfied: six>=1.10 in /usr/local/lib/python3.10/dist-packages (from kaggle) (1.16.0)\n",
            "Requirement already satisfied: certifi in /usr/local/lib/python3.10/dist-packages (from kaggle) (2023.7.22)\n",
            "Requirement already satisfied: python-dateutil in /usr/local/lib/python3.10/dist-packages (from kaggle) (2.8.2)\n",
            "Requirement already satisfied: requests in /usr/local/lib/python3.10/dist-packages (from kaggle) (2.31.0)\n",
            "Requirement already satisfied: tqdm in /usr/local/lib/python3.10/dist-packages (from kaggle) (4.66.1)\n",
            "Requirement already satisfied: python-slugify in /usr/local/lib/python3.10/dist-packages (from kaggle) (8.0.1)\n",
            "Requirement already satisfied: urllib3 in /usr/local/lib/python3.10/dist-packages (from kaggle) (2.0.7)\n",
            "Requirement already satisfied: bleach in /usr/local/lib/python3.10/dist-packages (from kaggle) (6.1.0)\n",
            "Requirement already satisfied: webencodings in /usr/local/lib/python3.10/dist-packages (from bleach->kaggle) (0.5.1)\n",
            "Requirement already satisfied: text-unidecode>=1.3 in /usr/local/lib/python3.10/dist-packages (from python-slugify->kaggle) (1.3)\n",
            "Requirement already satisfied: charset-normalizer<4,>=2 in /usr/local/lib/python3.10/dist-packages (from requests->kaggle) (3.3.2)\n",
            "Requirement already satisfied: idna<4,>=2.5 in /usr/local/lib/python3.10/dist-packages (from requests->kaggle) (3.4)\n"
          ]
        }
      ]
    },
    {
      "cell_type": "markdown",
      "source": [
        "Prompt ChatGPT:\n",
        "berikan kodingan untuk mengimpor file kaggle.json ke google collab"
      ],
      "metadata": {
        "id": "vvYck3gTxiVT"
      }
    },
    {
      "cell_type": "code",
      "source": [
        "from google.colab import files\n",
        "\n",
        "# Upload file kaggle.json\n",
        "files.upload()"
      ],
      "metadata": {
        "colab": {
          "base_uri": "https://localhost:8080/",
          "height": 88
        },
        "id": "SKHmiYaqgNgl",
        "outputId": "db223764-cc57-4975-a657-d2c435f1cc7e"
      },
      "execution_count": 2,
      "outputs": [
        {
          "output_type": "display_data",
          "data": {
            "text/plain": [
              "<IPython.core.display.HTML object>"
            ],
            "text/html": [
              "\n",
              "     <input type=\"file\" id=\"files-25f9221b-3187-49f6-b0d5-cb42dccd1e79\" name=\"files[]\" multiple disabled\n",
              "        style=\"border:none\" />\n",
              "     <output id=\"result-25f9221b-3187-49f6-b0d5-cb42dccd1e79\">\n",
              "      Upload widget is only available when the cell has been executed in the\n",
              "      current browser session. Please rerun this cell to enable.\n",
              "      </output>\n",
              "      <script>// Copyright 2017 Google LLC\n",
              "//\n",
              "// Licensed under the Apache License, Version 2.0 (the \"License\");\n",
              "// you may not use this file except in compliance with the License.\n",
              "// You may obtain a copy of the License at\n",
              "//\n",
              "//      http://www.apache.org/licenses/LICENSE-2.0\n",
              "//\n",
              "// Unless required by applicable law or agreed to in writing, software\n",
              "// distributed under the License is distributed on an \"AS IS\" BASIS,\n",
              "// WITHOUT WARRANTIES OR CONDITIONS OF ANY KIND, either express or implied.\n",
              "// See the License for the specific language governing permissions and\n",
              "// limitations under the License.\n",
              "\n",
              "/**\n",
              " * @fileoverview Helpers for google.colab Python module.\n",
              " */\n",
              "(function(scope) {\n",
              "function span(text, styleAttributes = {}) {\n",
              "  const element = document.createElement('span');\n",
              "  element.textContent = text;\n",
              "  for (const key of Object.keys(styleAttributes)) {\n",
              "    element.style[key] = styleAttributes[key];\n",
              "  }\n",
              "  return element;\n",
              "}\n",
              "\n",
              "// Max number of bytes which will be uploaded at a time.\n",
              "const MAX_PAYLOAD_SIZE = 100 * 1024;\n",
              "\n",
              "function _uploadFiles(inputId, outputId) {\n",
              "  const steps = uploadFilesStep(inputId, outputId);\n",
              "  const outputElement = document.getElementById(outputId);\n",
              "  // Cache steps on the outputElement to make it available for the next call\n",
              "  // to uploadFilesContinue from Python.\n",
              "  outputElement.steps = steps;\n",
              "\n",
              "  return _uploadFilesContinue(outputId);\n",
              "}\n",
              "\n",
              "// This is roughly an async generator (not supported in the browser yet),\n",
              "// where there are multiple asynchronous steps and the Python side is going\n",
              "// to poll for completion of each step.\n",
              "// This uses a Promise to block the python side on completion of each step,\n",
              "// then passes the result of the previous step as the input to the next step.\n",
              "function _uploadFilesContinue(outputId) {\n",
              "  const outputElement = document.getElementById(outputId);\n",
              "  const steps = outputElement.steps;\n",
              "\n",
              "  const next = steps.next(outputElement.lastPromiseValue);\n",
              "  return Promise.resolve(next.value.promise).then((value) => {\n",
              "    // Cache the last promise value to make it available to the next\n",
              "    // step of the generator.\n",
              "    outputElement.lastPromiseValue = value;\n",
              "    return next.value.response;\n",
              "  });\n",
              "}\n",
              "\n",
              "/**\n",
              " * Generator function which is called between each async step of the upload\n",
              " * process.\n",
              " * @param {string} inputId Element ID of the input file picker element.\n",
              " * @param {string} outputId Element ID of the output display.\n",
              " * @return {!Iterable<!Object>} Iterable of next steps.\n",
              " */\n",
              "function* uploadFilesStep(inputId, outputId) {\n",
              "  const inputElement = document.getElementById(inputId);\n",
              "  inputElement.disabled = false;\n",
              "\n",
              "  const outputElement = document.getElementById(outputId);\n",
              "  outputElement.innerHTML = '';\n",
              "\n",
              "  const pickedPromise = new Promise((resolve) => {\n",
              "    inputElement.addEventListener('change', (e) => {\n",
              "      resolve(e.target.files);\n",
              "    });\n",
              "  });\n",
              "\n",
              "  const cancel = document.createElement('button');\n",
              "  inputElement.parentElement.appendChild(cancel);\n",
              "  cancel.textContent = 'Cancel upload';\n",
              "  const cancelPromise = new Promise((resolve) => {\n",
              "    cancel.onclick = () => {\n",
              "      resolve(null);\n",
              "    };\n",
              "  });\n",
              "\n",
              "  // Wait for the user to pick the files.\n",
              "  const files = yield {\n",
              "    promise: Promise.race([pickedPromise, cancelPromise]),\n",
              "    response: {\n",
              "      action: 'starting',\n",
              "    }\n",
              "  };\n",
              "\n",
              "  cancel.remove();\n",
              "\n",
              "  // Disable the input element since further picks are not allowed.\n",
              "  inputElement.disabled = true;\n",
              "\n",
              "  if (!files) {\n",
              "    return {\n",
              "      response: {\n",
              "        action: 'complete',\n",
              "      }\n",
              "    };\n",
              "  }\n",
              "\n",
              "  for (const file of files) {\n",
              "    const li = document.createElement('li');\n",
              "    li.append(span(file.name, {fontWeight: 'bold'}));\n",
              "    li.append(span(\n",
              "        `(${file.type || 'n/a'}) - ${file.size} bytes, ` +\n",
              "        `last modified: ${\n",
              "            file.lastModifiedDate ? file.lastModifiedDate.toLocaleDateString() :\n",
              "                                    'n/a'} - `));\n",
              "    const percent = span('0% done');\n",
              "    li.appendChild(percent);\n",
              "\n",
              "    outputElement.appendChild(li);\n",
              "\n",
              "    const fileDataPromise = new Promise((resolve) => {\n",
              "      const reader = new FileReader();\n",
              "      reader.onload = (e) => {\n",
              "        resolve(e.target.result);\n",
              "      };\n",
              "      reader.readAsArrayBuffer(file);\n",
              "    });\n",
              "    // Wait for the data to be ready.\n",
              "    let fileData = yield {\n",
              "      promise: fileDataPromise,\n",
              "      response: {\n",
              "        action: 'continue',\n",
              "      }\n",
              "    };\n",
              "\n",
              "    // Use a chunked sending to avoid message size limits. See b/62115660.\n",
              "    let position = 0;\n",
              "    do {\n",
              "      const length = Math.min(fileData.byteLength - position, MAX_PAYLOAD_SIZE);\n",
              "      const chunk = new Uint8Array(fileData, position, length);\n",
              "      position += length;\n",
              "\n",
              "      const base64 = btoa(String.fromCharCode.apply(null, chunk));\n",
              "      yield {\n",
              "        response: {\n",
              "          action: 'append',\n",
              "          file: file.name,\n",
              "          data: base64,\n",
              "        },\n",
              "      };\n",
              "\n",
              "      let percentDone = fileData.byteLength === 0 ?\n",
              "          100 :\n",
              "          Math.round((position / fileData.byteLength) * 100);\n",
              "      percent.textContent = `${percentDone}% done`;\n",
              "\n",
              "    } while (position < fileData.byteLength);\n",
              "  }\n",
              "\n",
              "  // All done.\n",
              "  yield {\n",
              "    response: {\n",
              "      action: 'complete',\n",
              "    }\n",
              "  };\n",
              "}\n",
              "\n",
              "scope.google = scope.google || {};\n",
              "scope.google.colab = scope.google.colab || {};\n",
              "scope.google.colab._files = {\n",
              "  _uploadFiles,\n",
              "  _uploadFilesContinue,\n",
              "};\n",
              "})(self);\n",
              "</script> "
            ]
          },
          "metadata": {}
        },
        {
          "output_type": "stream",
          "name": "stdout",
          "text": [
            "Saving kaggle.json to kaggle.json\n"
          ]
        },
        {
          "output_type": "execute_result",
          "data": {
            "text/plain": [
              "{'kaggle.json': b'{\"username\":\"tassyaramadhanti\",\"key\":\"0100ff86eefed89e942ccf669125b605\"}'}"
            ]
          },
          "metadata": {},
          "execution_count": 2
        }
      ]
    },
    {
      "cell_type": "markdown",
      "source": [
        "Prompt ChatGPT:\n",
        "berikan codingan untuk membuat direktori kaggle kemudian pindahkan file kaggle.json yang sudah kita impor tadi kedalam direktori"
      ],
      "metadata": {
        "id": "T5A9PDg1xwI0"
      }
    },
    {
      "cell_type": "code",
      "source": [
        "# Membuat direktori Kaggle\n",
        "!mkdir -p ~/.kaggle\n",
        "\n",
        "# Pindahkan file kaggle.json ke direktori Kaggle\n",
        "!mv kaggle.json ~/.kaggle/"
      ],
      "metadata": {
        "id": "VBjqEb8tgNs1"
      },
      "execution_count": 3,
      "outputs": []
    },
    {
      "cell_type": "code",
      "source": [
        "# Mencari dataset yang tersedia di kaggle\n",
        "!kaggle datasets list -s \"Salary_Data\""
      ],
      "metadata": {
        "colab": {
          "base_uri": "https://localhost:8080/"
        },
        "id": "sHiurAJEgy5O",
        "outputId": "89c0a98b-aa75-4e6f-c87f-811766f94bb0"
      },
      "execution_count": 4,
      "outputs": [
        {
          "output_type": "stream",
          "name": "stdout",
          "text": [
            "Warning: Your Kaggle API key is readable by other users on this system! To fix this, you can run 'chmod 600 /root/.kaggle/kaggle.json'\n",
            "ref                                              title                                                size  lastUpdated          downloadCount  voteCount  usabilityRating  \n",
            "-----------------------------------------------  -------------------------------------------------  ------  -------------------  -------------  ---------  ---------------  \n",
            "mohithsairamreddy/salary-data                    Salary_Data                                          17KB  2023-05-18 14:05:19          15535        273  0.88235295       \n",
            "vihansp/salary-data                              Salary_data                                          378B  2018-01-04 19:15:53           7448         18  0.29411766       \n",
            "harsh45/random-salary-data-of-employes-age-wise  salary_data of Employees with years of Experience    378B  2019-08-11 16:11:15           2500         25  0.64705884       \n",
            "aytida23/salary-data                             salary_data                                          378B  2018-09-22 06:08:30            198          6  0.1764706        \n",
            "ayushish12/salary-data                           Salary_Data                                          378B  2021-06-17 19:01:56             63          5  0.1764706        \n",
            "alenjoseph/salary-data                           Salary_data                                          378B  2018-09-21 07:52:31             70          1  0.1764706        \n",
            "yaserrahmati/salary-data                         Salary_Data                                          451B  2021-11-05 14:16:57             13          2  0.1764706        \n",
            "rajansahu/salary-data                            Salary_Data                                          375B  2020-07-03 04:52:59             15          1  0.1764706        \n",
            "saurabh2712/salary-data                          Salary_data                                          386B  2021-04-06 12:28:10             24          2  0.29411766       \n",
            "nadhemjbeli/salary-data                          salary_data                                        1022KB  2021-01-18 20:25:25             27          1  0.1764706        \n",
            "tanejapranav/salary-data                         Salary_Data                                          382B  2018-11-15 17:01:06             41          1  0.1764706        \n",
            "kapilsharmma/salary-data                         salary_data                                          378B  2019-10-01 16:58:49             14          1  0.1764706        \n",
            "marsalanakhtar/salary-data                       Salary_Data                                          378B  2022-07-06 07:47:46              5          1  0.1764706        \n",
            "rojarosethomas/salary-data                       Salary_Data                                          373B  2022-08-27 13:04:45             17          1  0.29411766       \n",
            "abrahamanderson/salary-data                      salary_data                                          378B  2021-04-24 11:03:16             11          2  0.11764706       \n",
            "sudarshanamsaivenkat/salary-data                 Salary_Data                                          378B  2021-04-05 12:05:53              7          2  0.11764706       \n",
            "jacekbruzdzinski/salary-data                     Salary_Data                                          378B  2019-08-01 09:01:10             22          1  0.11764706       \n",
            "fajarhdyt/salary-data                            Salary_Data                                          378B  2020-11-27 06:01:08             10          1  0.11764706       \n",
            "pradyumnshenoy/salary-data                       Salary_Data                                          378B  2020-12-11 05:04:03             11          1  0.11764706       \n",
            "kumarraja052/salary-data                         Salary_data                                          378B  2022-03-17 02:47:31              9          1  0.11764706       \n"
          ]
        }
      ]
    },
    {
      "cell_type": "markdown",
      "source": [
        "Pilih dataset yang ingin digunakan dari list dataset yang tersedia diatas, kemudian download dataset"
      ],
      "metadata": {
        "id": "T_teBFrgzB_5"
      }
    },
    {
      "cell_type": "code",
      "source": [
        "# Download dan ekstrak dataset, dimana nantinya akan satu direktori dengan notebook ini\n",
        "!kaggle datasets download vihansp/salary-data --unzip"
      ],
      "metadata": {
        "colab": {
          "base_uri": "https://localhost:8080/"
        },
        "id": "f-jsQD0igzAt",
        "outputId": "82501360-d584-4dd6-abda-cf8ae5b2bba5"
      },
      "execution_count": 5,
      "outputs": [
        {
          "output_type": "stream",
          "name": "stdout",
          "text": [
            "Warning: Your Kaggle API key is readable by other users on this system! To fix this, you can run 'chmod 600 /root/.kaggle/kaggle.json'\n",
            "Downloading salary-data.zip to /content\n",
            "  0% 0.00/378 [00:00<?, ?B/s]\n",
            "100% 378/378 [00:00<00:00, 1.07MB/s]\n"
          ]
        }
      ]
    },
    {
      "cell_type": "markdown",
      "source": [
        "Dataset nantinya akan berada dalam direktori kaggle, seperti dibawah ini:\n",
        "\n",
        "![image.png](data:image/png;base64,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)"
      ],
      "metadata": {
        "id": "q0PHuKfnze6j"
      }
    },
    {
      "cell_type": "markdown",
      "source": [
        "## Library Yang Digunakan\n",
        "---"
      ],
      "metadata": {
        "id": "V4_SRzZBNgE8"
      }
    },
    {
      "cell_type": "code",
      "source": [
        "# Import library\n",
        "import pandas as pd\n",
        "import numpy as np\n",
        "from sklearn.svm import SVR\n",
        "import matplotlib.pyplot as plt\n",
        "from sklearn.model_selection import GridSearchCV\n",
        "from sklearn.model_selection import train_test_split\n",
        "from sklearn.metrics import mean_squared_error\n",
        "from sklearn.preprocessing import StandardScaler"
      ],
      "metadata": {
        "id": "S8j1PJIN2hPF"
      },
      "execution_count": 28,
      "outputs": []
    },
    {
      "cell_type": "markdown",
      "source": [
        "fungsi dari setiap library:\n",
        "\n",
        "1. **pandas (pd):** Pandas adalah library untuk manipulasi dan analisis data.\n",
        "\n",
        "2. **numpy (np):** NumPy adalah library untuk komputasi numerik di Python.\n",
        "\n",
        "3. **sklearn.svm (SVR):** Bagian dari scikit-learn (sklearn), modul ini menyediakan algoritma Support Vector Machines (SVM) untuk tugas-tugas regresi.\n",
        "\n",
        "4. **matplotlib.pyplot (plt):** Matplotlib adalah library untuk visualisasi data di Python. `pyplot` adalah salah satu modul di Matplotlib yang memberikan antarmuka untuk membuat visualisasi grafik seperti plot garis, scatter plot, histogram, dan sebagainya.\n",
        "\n",
        "5. **sklearn.model_selection (GridSearchCV, train_test_split):** `GridSearchCV` adalah alat untuk melakukan pencarian parameter terbaik untuk model Anda melalui grid search. `train_test_split` adalah fungsi yang membagi dataset menjadi data latih dan data uji.\n",
        "\n",
        "6. **sklearn.metrics (mean_squared_error):** Modul ini menyediakan berbagai metrik evaluasi kinerja model, dan `mean_squared_error` adalah salah satu metrik yang mengukur seberapa baik model regresi memprediksi nilai dengan membandingkan nilai sebenarnya dan nilai yang diprediksi.\n",
        "\n",
        "7. **sklearn.preprocessing (StandardScaler):** Modul ini menyediakan berbagai fungsi untuk pra-pemrosesan data. `StandardScaler` digunakan untuk melakukan standarisasi pada fitur-fitur, yaitu mengubah distribusi fitur sehingga memiliki nilai rata-rata 0 dan deviasi standar 1. Standarisasi ini dapat membantu model yang sensitif terhadap skala bekerja dengan lebih baik."
      ],
      "metadata": {
        "id": "QuMp_KOT_4UJ"
      }
    },
    {
      "cell_type": "markdown",
      "source": [
        "Prompt ChatGPT:\n",
        "beri kode untuk membaca dataset menjadi dataframe"
      ],
      "metadata": {
        "id": "dZAe7Z7nVff7"
      }
    },
    {
      "cell_type": "code",
      "execution_count": 42,
      "metadata": {
        "id": "CsuFIElHpuHC",
        "colab": {
          "base_uri": "https://localhost:8080/",
          "height": 206
        },
        "outputId": "6d4c28c2-9d28-42c1-fc83-acbbd1990e44"
      },
      "outputs": [
        {
          "output_type": "execute_result",
          "data": {
            "text/plain": [
              "   YearsExperience   Salary\n",
              "0              1.1  39343.0\n",
              "1              1.3  46205.0\n",
              "2              1.5  37731.0\n",
              "3              2.0  43525.0\n",
              "4              2.2  39891.0"
            ],
            "text/html": [
              "\n",
              "  <div id=\"df-5bd5d646-8c71-4998-8d10-77d9b47f97f5\" class=\"colab-df-container\">\n",
              "    <div>\n",
              "<style scoped>\n",
              "    .dataframe tbody tr th:only-of-type {\n",
              "        vertical-align: middle;\n",
              "    }\n",
              "\n",
              "    .dataframe tbody tr th {\n",
              "        vertical-align: top;\n",
              "    }\n",
              "\n",
              "    .dataframe thead th {\n",
              "        text-align: right;\n",
              "    }\n",
              "</style>\n",
              "<table border=\"1\" class=\"dataframe\">\n",
              "  <thead>\n",
              "    <tr style=\"text-align: right;\">\n",
              "      <th></th>\n",
              "      <th>YearsExperience</th>\n",
              "      <th>Salary</th>\n",
              "    </tr>\n",
              "  </thead>\n",
              "  <tbody>\n",
              "    <tr>\n",
              "      <th>0</th>\n",
              "      <td>1.1</td>\n",
              "      <td>39343.0</td>\n",
              "    </tr>\n",
              "    <tr>\n",
              "      <th>1</th>\n",
              "      <td>1.3</td>\n",
              "      <td>46205.0</td>\n",
              "    </tr>\n",
              "    <tr>\n",
              "      <th>2</th>\n",
              "      <td>1.5</td>\n",
              "      <td>37731.0</td>\n",
              "    </tr>\n",
              "    <tr>\n",
              "      <th>3</th>\n",
              "      <td>2.0</td>\n",
              "      <td>43525.0</td>\n",
              "    </tr>\n",
              "    <tr>\n",
              "      <th>4</th>\n",
              "      <td>2.2</td>\n",
              "      <td>39891.0</td>\n",
              "    </tr>\n",
              "  </tbody>\n",
              "</table>\n",
              "</div>\n",
              "    <div class=\"colab-df-buttons\">\n",
              "\n",
              "  <div class=\"colab-df-container\">\n",
              "    <button class=\"colab-df-convert\" onclick=\"convertToInteractive('df-5bd5d646-8c71-4998-8d10-77d9b47f97f5')\"\n",
              "            title=\"Convert this dataframe to an interactive table.\"\n",
              "            style=\"display:none;\">\n",
              "\n",
              "  <svg xmlns=\"http://www.w3.org/2000/svg\" height=\"24px\" viewBox=\"0 -960 960 960\">\n",
              "    <path d=\"M120-120v-720h720v720H120Zm60-500h600v-160H180v160Zm220 220h160v-160H400v160Zm0 220h160v-160H400v160ZM180-400h160v-160H180v160Zm440 0h160v-160H620v160ZM180-180h160v-160H180v160Zm440 0h160v-160H620v160Z\"/>\n",
              "  </svg>\n",
              "    </button>\n",
              "\n",
              "  <style>\n",
              "    .colab-df-container {\n",
              "      display:flex;\n",
              "      gap: 12px;\n",
              "    }\n",
              "\n",
              "    .colab-df-convert {\n",
              "      background-color: #E8F0FE;\n",
              "      border: none;\n",
              "      border-radius: 50%;\n",
              "      cursor: pointer;\n",
              "      display: none;\n",
              "      fill: #1967D2;\n",
              "      height: 32px;\n",
              "      padding: 0 0 0 0;\n",
              "      width: 32px;\n",
              "    }\n",
              "\n",
              "    .colab-df-convert:hover {\n",
              "      background-color: #E2EBFA;\n",
              "      box-shadow: 0px 1px 2px rgba(60, 64, 67, 0.3), 0px 1px 3px 1px rgba(60, 64, 67, 0.15);\n",
              "      fill: #174EA6;\n",
              "    }\n",
              "\n",
              "    .colab-df-buttons div {\n",
              "      margin-bottom: 4px;\n",
              "    }\n",
              "\n",
              "    [theme=dark] .colab-df-convert {\n",
              "      background-color: #3B4455;\n",
              "      fill: #D2E3FC;\n",
              "    }\n",
              "\n",
              "    [theme=dark] .colab-df-convert:hover {\n",
              "      background-color: #434B5C;\n",
              "      box-shadow: 0px 1px 3px 1px rgba(0, 0, 0, 0.15);\n",
              "      filter: drop-shadow(0px 1px 2px rgba(0, 0, 0, 0.3));\n",
              "      fill: #FFFFFF;\n",
              "    }\n",
              "  </style>\n",
              "\n",
              "    <script>\n",
              "      const buttonEl =\n",
              "        document.querySelector('#df-5bd5d646-8c71-4998-8d10-77d9b47f97f5 button.colab-df-convert');\n",
              "      buttonEl.style.display =\n",
              "        google.colab.kernel.accessAllowed ? 'block' : 'none';\n",
              "\n",
              "      async function convertToInteractive(key) {\n",
              "        const element = document.querySelector('#df-5bd5d646-8c71-4998-8d10-77d9b47f97f5');\n",
              "        const dataTable =\n",
              "          await google.colab.kernel.invokeFunction('convertToInteractive',\n",
              "                                                    [key], {});\n",
              "        if (!dataTable) return;\n",
              "\n",
              "        const docLinkHtml = 'Like what you see? Visit the ' +\n",
              "          '<a target=\"_blank\" href=https://colab.research.google.com/notebooks/data_table.ipynb>data table notebook</a>'\n",
              "          + ' to learn more about interactive tables.';\n",
              "        element.innerHTML = '';\n",
              "        dataTable['output_type'] = 'display_data';\n",
              "        await google.colab.output.renderOutput(dataTable, element);\n",
              "        const docLink = document.createElement('div');\n",
              "        docLink.innerHTML = docLinkHtml;\n",
              "        element.appendChild(docLink);\n",
              "      }\n",
              "    </script>\n",
              "  </div>\n",
              "\n",
              "\n",
              "<div id=\"df-8f39cb36-17b0-4dd0-baa3-6fae2082d9ef\">\n",
              "  <button class=\"colab-df-quickchart\" onclick=\"quickchart('df-8f39cb36-17b0-4dd0-baa3-6fae2082d9ef')\"\n",
              "            title=\"Suggest charts\"\n",
              "            style=\"display:none;\">\n",
              "\n",
              "<svg xmlns=\"http://www.w3.org/2000/svg\" height=\"24px\"viewBox=\"0 0 24 24\"\n",
              "     width=\"24px\">\n",
              "    <g>\n",
              "        <path d=\"M19 3H5c-1.1 0-2 .9-2 2v14c0 1.1.9 2 2 2h14c1.1 0 2-.9 2-2V5c0-1.1-.9-2-2-2zM9 17H7v-7h2v7zm4 0h-2V7h2v10zm4 0h-2v-4h2v4z\"/>\n",
              "    </g>\n",
              "</svg>\n",
              "  </button>\n",
              "\n",
              "<style>\n",
              "  .colab-df-quickchart {\n",
              "      --bg-color: #E8F0FE;\n",
              "      --fill-color: #1967D2;\n",
              "      --hover-bg-color: #E2EBFA;\n",
              "      --hover-fill-color: #174EA6;\n",
              "      --disabled-fill-color: #AAA;\n",
              "      --disabled-bg-color: #DDD;\n",
              "  }\n",
              "\n",
              "  [theme=dark] .colab-df-quickchart {\n",
              "      --bg-color: #3B4455;\n",
              "      --fill-color: #D2E3FC;\n",
              "      --hover-bg-color: #434B5C;\n",
              "      --hover-fill-color: #FFFFFF;\n",
              "      --disabled-bg-color: #3B4455;\n",
              "      --disabled-fill-color: #666;\n",
              "  }\n",
              "\n",
              "  .colab-df-quickchart {\n",
              "    background-color: var(--bg-color);\n",
              "    border: none;\n",
              "    border-radius: 50%;\n",
              "    cursor: pointer;\n",
              "    display: none;\n",
              "    fill: var(--fill-color);\n",
              "    height: 32px;\n",
              "    padding: 0;\n",
              "    width: 32px;\n",
              "  }\n",
              "\n",
              "  .colab-df-quickchart:hover {\n",
              "    background-color: var(--hover-bg-color);\n",
              "    box-shadow: 0 1px 2px rgba(60, 64, 67, 0.3), 0 1px 3px 1px rgba(60, 64, 67, 0.15);\n",
              "    fill: var(--button-hover-fill-color);\n",
              "  }\n",
              "\n",
              "  .colab-df-quickchart-complete:disabled,\n",
              "  .colab-df-quickchart-complete:disabled:hover {\n",
              "    background-color: var(--disabled-bg-color);\n",
              "    fill: var(--disabled-fill-color);\n",
              "    box-shadow: none;\n",
              "  }\n",
              "\n",
              "  .colab-df-spinner {\n",
              "    border: 2px solid var(--fill-color);\n",
              "    border-color: transparent;\n",
              "    border-bottom-color: var(--fill-color);\n",
              "    animation:\n",
              "      spin 1s steps(1) infinite;\n",
              "  }\n",
              "\n",
              "  @keyframes spin {\n",
              "    0% {\n",
              "      border-color: transparent;\n",
              "      border-bottom-color: var(--fill-color);\n",
              "      border-left-color: var(--fill-color);\n",
              "    }\n",
              "    20% {\n",
              "      border-color: transparent;\n",
              "      border-left-color: var(--fill-color);\n",
              "      border-top-color: var(--fill-color);\n",
              "    }\n",
              "    30% {\n",
              "      border-color: transparent;\n",
              "      border-left-color: var(--fill-color);\n",
              "      border-top-color: var(--fill-color);\n",
              "      border-right-color: var(--fill-color);\n",
              "    }\n",
              "    40% {\n",
              "      border-color: transparent;\n",
              "      border-right-color: var(--fill-color);\n",
              "      border-top-color: var(--fill-color);\n",
              "    }\n",
              "    60% {\n",
              "      border-color: transparent;\n",
              "      border-right-color: var(--fill-color);\n",
              "    }\n",
              "    80% {\n",
              "      border-color: transparent;\n",
              "      border-right-color: var(--fill-color);\n",
              "      border-bottom-color: var(--fill-color);\n",
              "    }\n",
              "    90% {\n",
              "      border-color: transparent;\n",
              "      border-bottom-color: var(--fill-color);\n",
              "    }\n",
              "  }\n",
              "</style>\n",
              "\n",
              "  <script>\n",
              "    async function quickchart(key) {\n",
              "      const quickchartButtonEl =\n",
              "        document.querySelector('#' + key + ' button');\n",
              "      quickchartButtonEl.disabled = true;  // To prevent multiple clicks.\n",
              "      quickchartButtonEl.classList.add('colab-df-spinner');\n",
              "      try {\n",
              "        const charts = await google.colab.kernel.invokeFunction(\n",
              "            'suggestCharts', [key], {});\n",
              "      } catch (error) {\n",
              "        console.error('Error during call to suggestCharts:', error);\n",
              "      }\n",
              "      quickchartButtonEl.classList.remove('colab-df-spinner');\n",
              "      quickchartButtonEl.classList.add('colab-df-quickchart-complete');\n",
              "    }\n",
              "    (() => {\n",
              "      let quickchartButtonEl =\n",
              "        document.querySelector('#df-8f39cb36-17b0-4dd0-baa3-6fae2082d9ef button');\n",
              "      quickchartButtonEl.style.display =\n",
              "        google.colab.kernel.accessAllowed ? 'block' : 'none';\n",
              "    })();\n",
              "  </script>\n",
              "</div>\n",
              "    </div>\n",
              "  </div>\n"
            ]
          },
          "metadata": {},
          "execution_count": 42
        }
      ],
      "source": [
        "# memuat data\n",
        "df = pd.read_csv(\"Salary_Data.csv\")\n",
        "\n",
        "# menampilkan 5 baris pertama dataset\n",
        "df.head()"
      ]
    },
    {
      "cell_type": "code",
      "source": [
        "#Menampilkan informasi umum dataset\n",
        "df.info()"
      ],
      "metadata": {
        "colab": {
          "base_uri": "https://localhost:8080/"
        },
        "id": "E_N3PvD4uPX4",
        "outputId": "2dee5621-f527-4250-e6e6-35a28a211c27"
      },
      "execution_count": 30,
      "outputs": [
        {
          "output_type": "stream",
          "name": "stdout",
          "text": [
            "<class 'pandas.core.frame.DataFrame'>\n",
            "RangeIndex: 30 entries, 0 to 29\n",
            "Data columns (total 2 columns):\n",
            " #   Column           Non-Null Count  Dtype  \n",
            "---  ------           --------------  -----  \n",
            " 0   YearsExperience  30 non-null     float64\n",
            " 1   Salary           30 non-null     float64\n",
            "dtypes: float64(2)\n",
            "memory usage: 608.0 bytes\n"
          ]
        }
      ]
    },
    {
      "cell_type": "code",
      "source": [
        "# Menampilkan jumlah nilai yang hilang untuk setiap kolom\n",
        "df.isnull().sum()"
      ],
      "metadata": {
        "colab": {
          "base_uri": "https://localhost:8080/"
        },
        "id": "Cj8vwT324G3r",
        "outputId": "34928f49-4a74-43ad-fe87-a39a4cbbb957"
      },
      "execution_count": 31,
      "outputs": [
        {
          "output_type": "execute_result",
          "data": {
            "text/plain": [
              "YearsExperience    0\n",
              "Salary             0\n",
              "dtype: int64"
            ]
          },
          "metadata": {},
          "execution_count": 31
        }
      ]
    },
    {
      "cell_type": "markdown",
      "source": [
        "Prompt ChatGPT: beri kode untuk melakukan SVR dengan target \"Salary\""
      ],
      "metadata": {
        "id": "yfPJeZYYWm8D"
      }
    },
    {
      "cell_type": "code",
      "source": [
        "# Pisahkan fitur (X) dan target (y)\n",
        "X = df['YearsExperience'].values.reshape(-1, 1)\n",
        "y = df['Salary'].values\n",
        "\n",
        "# Bagi data menjadi data latih dan data uji\n",
        "X_train, X_test, y_train, y_test = train_test_split(X, y, test_size=0.2, random_state=42)\n",
        "\n",
        "# Inisialisasi model SVR dengan hyperparameter tertentu, disini saya menggunakan parameter C, gamma, dan kernel\n",
        "svr_model = SVR(C=1000, gamma=0.05, kernel='rbf')\n",
        "\n",
        "# Melatih model SVR\n",
        "svr_model.fit(X_train, y_train)\n",
        "\n",
        "# Melakukan prediksi pada data uji\n",
        "y_pred = svr_model.predict(X_test)\n",
        "\n",
        "# Evaluasi model\n",
        "mse = mean_squared_error(y_test, y_pred)\n",
        "print(f'Mean Squared Error: {mse}')"
      ],
      "metadata": {
        "colab": {
          "base_uri": "https://localhost:8080/"
        },
        "id": "hG7tAB4f04n0",
        "outputId": "7561ee78-9b38-4cc3-f775-0944d38468b8"
      },
      "execution_count": 46,
      "outputs": [
        {
          "output_type": "stream",
          "name": "stdout",
          "text": [
            "Mean Squared Error: 574116457.7520595\n"
          ]
        }
      ]
    },
    {
      "cell_type": "code",
      "source": [
        "# Memvisualisasikan model\n",
        "plt.scatter(X, y, label='Actual Data')\n",
        "plt.plot(X, svr_model.predict(X), color='red', label='SVR Regression')\n",
        "\n",
        "# Label sumbu\n",
        "plt.xlabel('Years of Experience')\n",
        "plt.ylabel('Salary')\n",
        "\n",
        "# Menambahkan judul\n",
        "plt.title('SVR Regression')\n",
        "\n",
        "# Menampilkan legenda\n",
        "plt.legend()\n",
        "\n",
        "# Menampilkan plot\n",
        "plt.show()"
      ],
      "metadata": {
        "colab": {
          "base_uri": "https://localhost:8080/",
          "height": 472
        },
        "id": "vcLkwu4s1wzF",
        "outputId": "b6bb34d2-3271-4c96-b0ec-569c72b79049"
      },
      "execution_count": 33,
      "outputs": [
        {
          "output_type": "display_data",
          "data": {
            "text/plain": [
              "<Figure size 640x480 with 1 Axes>"
            ],
            "image/png": "[encoded data removed]"
          },
          "metadata": {}
        }
      ]
    },
    {
      "cell_type": "code",
      "source": [
        "# Standarisasi fitur menggunakan StandardScaler\n",
        "scaler = StandardScaler()\n",
        "X_train_scaled = scaler.fit_transform(X_train)\n",
        "X_test_scaled = scaler.transform(X_test)\n",
        "\n",
        "# Tentukan hyperparameter yang akan diuji\n",
        "param_grid = {\n",
        "    'kernel': ['rbf'],\n",
        "    'C': [100, 500, 1000, 5000, 10000, 50000, 100000],\n",
        "    'gamma': [1, 0.5, 0.1, 0.05, 0.01, 0.005, 0.001]\n",
        "}\n",
        "\n",
        "# Gunakan GridSearchCV untuk mencari parameter terbaik\n",
        "grid_search = GridSearchCV(svr_model, param_grid, cv=5)\n",
        "grid_search.fit(X_train_scaled, y_train)\n",
        "\n",
        "# Tampilkan parameter terbaik\n",
        "best_params = grid_search.best_params_\n",
        "print(f'Best Parameters: {best_params}')\n",
        "\n",
        "# Gunakan model terbaik untuk membuat prediksi\n",
        "best_model = grid_search.best_estimator_\n",
        "y_pred = best_model.predict(X_test_scaled)\n",
        "\n",
        "# Evaluasi model\n",
        "mse = mean_squared_error(y_test, y_pred)\n",
        "print(f'Mean Squared Error on Test Set: {mse}')"
      ],
      "metadata": {
        "colab": {
          "base_uri": "https://localhost:8080/"
        },
        "id": "BNP1Qj1881PR",
        "outputId": "28d9b00f-dd2a-4d11-b473-666395b8e158"
      },
      "execution_count": 47,
      "outputs": [
        {
          "output_type": "stream",
          "name": "stdout",
          "text": [
            "Best Parameters: {'C': 100000, 'gamma': 0.05, 'kernel': 'rbf'}\n",
            "Mean Squared Error on Test Set: 45245096.376111336\n"
          ]
        }
      ]
    },
    {
      "cell_type": "markdown",
      "source": [
        "Dalam kode di atas, fitur X_train atau 'YearsExperience' di-standarisasi menggunakan StandardScaler sebelum diterapkan pada model SVR. Standarisasi ini membantu model untuk lebih efektif belajar dari data dan meningkatkan interpretasi hasilnya."
      ],
      "metadata": {
        "id": "vxPaXEz7-N4b"
      }
    },
    {
      "cell_type": "markdown",
      "source": [
        "Memiliki lebih banyak kombinasi hiperparameter pada param_grid dapat meningkatkan ruang pencarian dan membantu menemukan kombinasi hiperparameter yang memberikan performa terbaik akan tetapi semakin banyak waktu yang dibutuhkan untuk GridSearchCV, jadi pertimbangkan trade-off antara jumlah kombinasi dan waktu eksekusi."
      ],
      "metadata": {
        "id": "TA1ofGQJ9S4U"
      }
    },
    {
      "cell_type": "code",
      "source": [
        "model_baru = SVR(C=100000, gamma=0.05, kernel='rbf')\n",
        "model_baru.fit(X,y)"
      ],
      "metadata": {
        "colab": {
          "base_uri": "https://localhost:8080/",
          "height": 75
        },
        "id": "h311fy8ICo1X",
        "outputId": "f77fa9d7-50a4-42bf-813d-40ff64b1597c"
      },
      "execution_count": 48,
      "outputs": [
        {
          "output_type": "execute_result",
          "data": {
            "text/plain": [
              "SVR(C=100000, gamma=0.05)"
            ],
            "text/html": [
              "<style>#sk-container-id-2 {color: black;background-color: white;}#sk-container-id-2 pre{padding: 0;}#sk-container-id-2 div.sk-toggleable {background-color: white;}#sk-container-id-2 label.sk-toggleable__label {cursor: pointer;display: block;width: 100%;margin-bottom: 0;padding: 0.3em;box-sizing: border-box;text-align: center;}#sk-container-id-2 label.sk-toggleable__label-arrow:before {content: \"▸\";float: left;margin-right: 0.25em;color: #696969;}#sk-container-id-2 label.sk-toggleable__label-arrow:hover:before {color: black;}#sk-container-id-2 div.sk-estimator:hover label.sk-toggleable__label-arrow:before {color: black;}#sk-container-id-2 div.sk-toggleable__content {max-height: 0;max-width: 0;overflow: hidden;text-align: left;background-color: #f0f8ff;}#sk-container-id-2 div.sk-toggleable__content pre {margin: 0.2em;color: black;border-radius: 0.25em;background-color: #f0f8ff;}#sk-container-id-2 input.sk-toggleable__control:checked~div.sk-toggleable__content {max-height: 200px;max-width: 100%;overflow: auto;}#sk-container-id-2 input.sk-toggleable__control:checked~label.sk-toggleable__label-arrow:before {content: \"▾\";}#sk-container-id-2 div.sk-estimator input.sk-toggleable__control:checked~label.sk-toggleable__label {background-color: #d4ebff;}#sk-container-id-2 div.sk-label input.sk-toggleable__control:checked~label.sk-toggleable__label {background-color: #d4ebff;}#sk-container-id-2 input.sk-hidden--visually {border: 0;clip: rect(1px 1px 1px 1px);clip: rect(1px, 1px, 1px, 1px);height: 1px;margin: -1px;overflow: hidden;padding: 0;position: absolute;width: 1px;}#sk-container-id-2 div.sk-estimator {font-family: monospace;background-color: #f0f8ff;border: 1px dotted black;border-radius: 0.25em;box-sizing: border-box;margin-bottom: 0.5em;}#sk-container-id-2 div.sk-estimator:hover {background-color: #d4ebff;}#sk-container-id-2 div.sk-parallel-item::after {content: \"\";width: 100%;border-bottom: 1px solid gray;flex-grow: 1;}#sk-container-id-2 div.sk-label:hover label.sk-toggleable__label {background-color: #d4ebff;}#sk-container-id-2 div.sk-serial::before {content: \"\";position: absolute;border-left: 1px solid gray;box-sizing: border-box;top: 0;bottom: 0;left: 50%;z-index: 0;}#sk-container-id-2 div.sk-serial {display: flex;flex-direction: column;align-items: center;background-color: white;padding-right: 0.2em;padding-left: 0.2em;position: relative;}#sk-container-id-2 div.sk-item {position: relative;z-index: 1;}#sk-container-id-2 div.sk-parallel {display: flex;align-items: stretch;justify-content: center;background-color: white;position: relative;}#sk-container-id-2 div.sk-item::before, #sk-container-id-2 div.sk-parallel-item::before {content: \"\";position: absolute;border-left: 1px solid gray;box-sizing: border-box;top: 0;bottom: 0;left: 50%;z-index: -1;}#sk-container-id-2 div.sk-parallel-item {display: flex;flex-direction: column;z-index: 1;position: relative;background-color: white;}#sk-container-id-2 div.sk-parallel-item:first-child::after {align-self: flex-end;width: 50%;}#sk-container-id-2 div.sk-parallel-item:last-child::after {align-self: flex-start;width: 50%;}#sk-container-id-2 div.sk-parallel-item:only-child::after {width: 0;}#sk-container-id-2 div.sk-dashed-wrapped {border: 1px dashed gray;margin: 0 0.4em 0.5em 0.4em;box-sizing: border-box;padding-bottom: 0.4em;background-color: white;}#sk-container-id-2 div.sk-label label {font-family: monospace;font-weight: bold;display: inline-block;line-height: 1.2em;}#sk-container-id-2 div.sk-label-container {text-align: center;}#sk-container-id-2 div.sk-container {/* jupyter's `normalize.less` sets `[hidden] { display: none; }` but bootstrap.min.css set `[hidden] { display: none !important; }` so we also need the `!important` here to be able to override the default hidden behavior on the sphinx rendered scikit-learn.org. See: https://github.com/scikit-learn/scikit-learn/issues/21755 */display: inline-block !important;position: relative;}#sk-container-id-2 div.sk-text-repr-fallback {display: none;}</style><div id=\"sk-container-id-2\" class=\"sk-top-container\"><div class=\"sk-text-repr-fallback\"><pre>SVR(C=100000, gamma=0.05)</pre><b>In a Jupyter environment, please rerun this cell to show the HTML representation or trust the notebook. <br />On GitHub, the HTML representation is unable to render, please try loading this page with nbviewer.org.</b></div><div class=\"sk-container\" hidden><div class=\"sk-item\"><div class=\"sk-estimator sk-toggleable\"><input class=\"sk-toggleable__control sk-hidden--visually\" id=\"sk-estimator-id-2\" type=\"checkbox\" checked><label for=\"sk-estimator-id-2\" class=\"sk-toggleable__label sk-toggleable__label-arrow\">SVR</label><div class=\"sk-toggleable__content\"><pre>SVR(C=100000, gamma=0.05)</pre></div></div></div></div></div>"
            ]
          },
          "metadata": {},
          "execution_count": 48
        }
      ]
    },
    {
      "cell_type": "code",
      "source": [
        "#visualisasikan model\n",
        "import matplotlib.pyplot as plt\n",
        "plt.scatter(X, y)\n",
        "plt.plot(X, model_baru.predict(X))"
      ],
      "metadata": {
        "colab": {
          "base_uri": "https://localhost:8080/",
          "height": 447
        },
        "id": "jj4Od275CpvD",
        "outputId": "3a69d032-be21-4ee0-83a8-0c86a3e5ac3f"
      },
      "execution_count": 49,
      "outputs": [
        {
          "output_type": "execute_result",
          "data": {
            "text/plain": [
              "[<matplotlib.lines.Line2D at 0x7d6ab8bd52d0>]"
            ]
          },
          "metadata": {},
          "execution_count": 49
        },
        {
          "output_type": "display_data",
          "data": {
            "text/plain": [
              "<Figure size 640x480 with 1 Axes>"
            ],
            "image/png": "[encoded data removed]"
          },
          "metadata": {}
        }
      ]
    }
  ]
}